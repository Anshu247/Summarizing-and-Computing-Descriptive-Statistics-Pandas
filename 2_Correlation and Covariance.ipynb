{
 "cells": [
  {
   "cell_type": "code",
   "execution_count": 1,
   "id": "e036433d",
   "metadata": {},
   "outputs": [],
   "source": [
    "import pandas_datareader.data as web\n",
    "import pandas as pd\n",
    "import numpy as np"
   ]
  },
  {
   "cell_type": "code",
   "execution_count": 3,
   "id": "1c58af36",
   "metadata": {},
   "outputs": [],
   "source": [
    "import pandas_datareader as web\n",
    "import os\n",
    "\n",
    "# Set the Alpha Vantage API key\n",
    "os.environ[\"ALPHAVANTAGE_API_KEY\"] = \"YOUR_API_KEY\"\n",
    "\n",
    "tickers = ['AAPL', 'IBM', 'MSFT', 'GOOG']\n",
    "all_data = {}\n",
    "\n",
    "# Fetch data for each ticker\n",
    "for ticker in tickers:\n",
    "    try:\n",
    "        data = web.DataReader(ticker, 'av-daily')\n",
    "        all_data[ticker] = data\n",
    "    except Exception as e:\n",
    "        print(f\"Error fetching data for {ticker}: {e}\")\n"
   ]
  },
  {
   "cell_type": "code",
   "execution_count": null,
   "id": "1bf2c0e3",
   "metadata": {},
   "outputs": [],
   "source": []
  }
 ],
 "metadata": {
  "kernelspec": {
   "display_name": "Python 3 (ipykernel)",
   "language": "python",
   "name": "python3"
  },
  "language_info": {
   "codemirror_mode": {
    "name": "ipython",
    "version": 3
   },
   "file_extension": ".py",
   "mimetype": "text/x-python",
   "name": "python",
   "nbconvert_exporter": "python",
   "pygments_lexer": "ipython3",
   "version": "3.10.9"
  }
 },
 "nbformat": 4,
 "nbformat_minor": 5
}
